{
 "cells": [
  {
   "cell_type": "code",
   "execution_count": null,
   "metadata": {},
   "outputs": [],
   "source": [
    "import numpy as np\n",
    "import matplotlib.pyplot as plt\n",
    "\n",
    "import MVPA\n",
    "\n",
    "# we need the config object to locate the data\n",
    "CONFIG = MVPA.utils.config_prep()"
   ]
  },
  {
   "cell_type": "code",
   "execution_count": null,
   "metadata": {},
   "outputs": [],
   "source": [
    "for key in CONFIG['PATHS']['RESULTS'].keys():\n",
    "    print(key)"
   ]
  },
  {
   "cell_type": "code",
   "execution_count": null,
   "metadata": {},
   "outputs": [],
   "source": [
    "# we can run all plotting easily by running\n",
    "MVPA.plotting.generate_all_plots()\n",
    "\n",
    "# plots will be stored under\n",
    "print(f\"Plot directory: {CONFIG['PATHS']['PLOT']}\")"
   ]
  },
  {
   "cell_type": "code",
   "execution_count": null,
   "metadata": {},
   "outputs": [],
   "source": [
    " # the generate_all_plots function uses individual plotters:\n",
    "from inspect import getmembers, isfunction\n",
    "\n",
    "print(\"Available plotters:\\n\")\n",
    "for name, func in getmembers(MVPA.plotting, isfunction):\n",
    "    if name != 'config_prep':\n",
    "        print(name)"
   ]
  },
  {
   "cell_type": "code",
   "execution_count": null,
   "metadata": {},
   "outputs": [],
   "source": [
    "with open(CONFIG['PATHS']['RESULTS']['GAT_RESULTS'], 'rb') as tmp:\n",
    "    GAT_results = np.load(tmp)\n",
    "\n",
    "# p-values are only available with multiple subjects\n",
    "with open(CONFIG['PATHS']['RESULTS']['GAT_PVALUES'], 'rb') as tmp:\n",
    "    GAT_pvalues = np.load(tmp)\n",
    "\n",
    "# results are stored in shape (n_subjects, n_folds, n_times, n_times)\n",
    "# while the function expects shape (n_subjects, n_times, n_times)\n",
    "# so we need to take the mean over folds\n",
    "fig, ax = MVPA.plotting.GeneralizationScoreMatrix(GAT_results.mean(1), \n",
    "                                                  p_values=GAT_pvalues,\n",
    "                                                  p_value_threshold=0.05\n",
    "                                                  )\n",
    "\n",
    "fig.show()"
   ]
  },
  {
   "cell_type": "code",
   "execution_count": null,
   "metadata": {},
   "outputs": [],
   "source": [
    "with open(CONFIG['PATHS']['RESULTS']['GAT_RESULTS'], 'rb') as tmp:\n",
    "    GAT_results = np.load(tmp)\n",
    "\n",
    "# p-values are only available with multiple subjects\n",
    "with open(CONFIG['PATHS']['RESULTS']['GAT_PVALUES'], 'rb') as tmp:\n",
    "    GAT_pvalues = np.load(tmp)\n",
    "\n",
    "# results are stored in shape (n_subjects, n_folds, n_times, n_times)\n",
    "# while the function expects shape (n_subjects, n_times, n_times)\n",
    "# so we need to take the mean over folds\n",
    "fig, ax = MVPA.plotting.GeneralizationDiagonal(GAT_results.mean(1), \n",
    "                                               p_values=GAT_pvalues,\n",
    "                                               p_value_threshold=[0.01, 0.05]\n",
    "                                               )\n",
    "\n",
    "fig.show()"
   ]
  },
  {
   "cell_type": "code",
   "execution_count": null,
   "metadata": {},
   "outputs": [],
   "source": [
    "with open(CONFIG['PATHS']['RESULTS']['CHANNEL_SCORES'], 'rb') as tmp:\n",
    "    channel_results = np.load(tmp)\n",
    "\n",
    "# p-values are only available with multiple subjects\n",
    "with open(CONFIG['PATHS']['RESULTS']['CHANNEL_PVALUES'], 'rb') as tmp:\n",
    "    channel_pvalues = np.load(tmp)\n",
    "\n",
    "# results are stored in shape (n_subjects, n_channels, n_folds, n_times)\n",
    "# while the function expects shape (n_subjects, n_channels, n_times)\n",
    "# so we need to take the mean over folds\n",
    "fig, ax = MVPA.plotting.ChannelScoresMatrix(channel_results.mean(2),\n",
    "                                          #   p_values=channel_pvalues,\n",
    "                                          #   p_value_threshold=0.05\n",
    "                                            )\n",
    "\n",
    "fig.show()"
   ]
  },
  {
   "cell_type": "code",
   "execution_count": null,
   "metadata": {},
   "outputs": [],
   "source": [
    "with open(CONFIG['PATHS']['RESULTS']['CHANNEL_SCORES'], 'rb') as tmp:\n",
    "    channel_results = np.load(tmp)\n",
    "\n",
    "# p-values are only available with multiple subjects\n",
    "with open(CONFIG['PATHS']['RESULTS']['CHANNEL_PVALUES'], 'rb') as tmp:\n",
    "    channel_pvalues = np.load(tmp)\n",
    "\n",
    "# results are stored in shape (n_subjects, n_channels, n_folds, n_times)\n",
    "# while the function expects shape (n_subjects, n_channels, n_times)\n",
    "# so we need to take the mean over folds\n",
    "fig, ax = MVPA.plotting.ChannelScoresTopomap(channel_results.mean(2),\n",
    "                                             tvals=(CONFIG['MNE']['T_MIN'], CONFIG['MNE']['T_MAX'])\n",
    "                                             )\n",
    "\n",
    "fig.show()"
   ]
  },
  {
   "cell_type": "code",
   "execution_count": null,
   "metadata": {},
   "outputs": [],
   "source": []
  },
  {
   "cell_type": "code",
   "execution_count": null,
   "metadata": {},
   "outputs": [],
   "source": []
  }
 ],
 "metadata": {
  "kernelspec": {
   "display_name": "venv",
   "language": "python",
   "name": "python3"
  },
  "language_info": {
   "codemirror_mode": {
    "name": "ipython",
    "version": 3
   },
   "file_extension": ".py",
   "mimetype": "text/x-python",
   "name": "python",
   "nbconvert_exporter": "python",
   "pygments_lexer": "ipython3",
   "version": "3.11.3"
  }
 },
 "nbformat": 4,
 "nbformat_minor": 2
}
