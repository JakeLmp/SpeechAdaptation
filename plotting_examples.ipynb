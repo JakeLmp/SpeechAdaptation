{
 "cells": [
  {
   "cell_type": "markdown",
   "metadata": {},
   "source": [
    "# MVPA plotting examples\n",
    "\n",
    "Run this notebook after running the MVPA tool (by typing ```python -m MVPA -a``` in the terminal)"
   ]
  },
  {
   "cell_type": "code",
   "execution_count": null,
   "metadata": {},
   "outputs": [],
   "source": [
    "import numpy as np\n",
    "import matplotlib.pyplot as plt\n",
    "import mne\n",
    "\n",
    "import MVPA\n",
    "\n",
    "# we need the config object to locate the data\n",
    "CONFIG = MVPA.utils.config_prep()"
   ]
  },
  {
   "cell_type": "code",
   "execution_count": null,
   "metadata": {},
   "outputs": [],
   "source": [
    "print(\"Key/path combinations of result files in CONFIG object\")\n",
    "for key, val in CONFIG['PATHS']['RESULTS'].items():\n",
    "    print(f\"{key} \\t\\t {val}\")"
   ]
  },
  {
   "cell_type": "code",
   "execution_count": null,
   "metadata": {},
   "outputs": [],
   "source": [
    "# we can run all plotting easily by running\n",
    "MVPA.plotting.generate_all_plots(spoofed_subject=False)\n",
    "\n",
    "# plots will be stored under\n",
    "print(f\"Plot directory: {CONFIG['PATHS']['PLOT']}\")"
   ]
  },
  {
   "cell_type": "code",
   "execution_count": null,
   "metadata": {},
   "outputs": [],
   "source": [
    " # the generate_all_plots function uses individual plotters:\n",
    "from inspect import getmembers, isfunction\n",
    "\n",
    "print(\"Available plotters:\\n\")\n",
    "for name, func in getmembers(MVPA.plotting, isfunction):\n",
    "    if name != 'config_prep':\n",
    "        print(name)"
   ]
  },
  {
   "cell_type": "code",
   "execution_count": null,
   "metadata": {},
   "outputs": [],
   "source": [
    "with open(CONFIG['PATHS']['RESULTS']['GAT_RESULTS'], 'rb') as tmp:\n",
    "    GAT_results = np.load(tmp)\n",
    "\n",
    "# p-values are only available with multiple subjects\n",
    "with open(CONFIG['PATHS']['RESULTS']['GAT_PVALUES'], 'rb') as tmp:\n",
    "    GAT_pvalues = np.load(tmp)\n",
    "\n",
    "# results are stored in shape (n_subjects, n_folds, n_times, n_times)\n",
    "# while the function expects shape (n_subjects, n_times, n_times)\n",
    "# so we need to take the mean over folds\n",
    "fig, ax = MVPA.plotting.GeneralizationScoreMatrix(GAT_results.mean(1), \n",
    "                                                  p_values=GAT_pvalues,\n",
    "                                                  p_value_threshold=0.05\n",
    "                                                  )\n",
    "\n",
    "fig.show()"
   ]
  },
  {
   "cell_type": "code",
   "execution_count": null,
   "metadata": {},
   "outputs": [],
   "source": [
    "with open(CONFIG['PATHS']['RESULTS']['GAT_RESULTS'], 'rb') as tmp:\n",
    "    GAT_results = np.load(tmp)\n",
    "\n",
    "# p-values are only available with multiple subjects\n",
    "with open(CONFIG['PATHS']['RESULTS']['GAT_PVALUES'], 'rb') as tmp:\n",
    "    GAT_pvalues = np.load(tmp)\n",
    "\n",
    "# results are stored in shape (n_subjects, n_folds, n_times, n_times)\n",
    "# while the function expects shape (n_subjects, n_times, n_times)\n",
    "# so we need to take the mean over folds\n",
    "fig, ax = MVPA.plotting.GeneralizationDiagonal(GAT_results.mean(1), \n",
    "                                               p_values=GAT_pvalues,\n",
    "                                               p_value_threshold=[0.01, 0.05, 0.001]\n",
    "                                               )\n",
    "\n",
    "fig.show()"
   ]
  },
  {
   "cell_type": "code",
   "execution_count": null,
   "metadata": {},
   "outputs": [],
   "source": [
    "# this plot should be pretty much identical to the GAT diagonal\n",
    "\n",
    "with open(CONFIG['PATHS']['RESULTS']['TEMPORAL_SCORES'], 'rb') as tmp:\n",
    "    temporal_results = np.load(tmp)\n",
    "\n",
    "# results are stored in shape (n_subjects, n_folds, n_times)\n",
    "# while the function expects shape (n_subjects, n_times)\n",
    "# so we need to take the mean over folds\n",
    "fig, ax = MVPA.plotting.TemporalScore(temporal_results.mean(1)\n",
    "                                      )\n",
    "\n",
    "fig.show()"
   ]
  },
  {
   "cell_type": "code",
   "execution_count": null,
   "metadata": {},
   "outputs": [],
   "source": [
    "# read_evokeds returns a list, in this case with only 1 element\n",
    "grand_average = mne.read_evokeds(CONFIG['PATHS']['RESULTS']['TEMPORAL_GRAND_AVG'])[0]\n",
    "\n",
    "fig, ax = MVPA.plotting.TemporalModelPatterns(grand_average, tvals=(0.6, 1.0))"
   ]
  },
  {
   "cell_type": "code",
   "execution_count": null,
   "metadata": {},
   "outputs": [],
   "source": [
    "with open(CONFIG['PATHS']['RESULTS']['CHANNEL_SCORES'], 'rb') as tmp:\n",
    "    channel_results = np.load(tmp)\n",
    "\n",
    "# p-values are only available with multiple subjects\n",
    "with open(CONFIG['PATHS']['RESULTS']['CHANNEL_PVALUES'], 'rb') as tmp:\n",
    "    channel_pvalues = np.load(tmp)\n",
    "\n",
    "# results are stored in shape (n_subjects, n_channels, n_folds, n_times)\n",
    "# while the function expects shape (n_subjects, n_channels, n_times)\n",
    "# so we need to take the mean over folds\n",
    "fig, ax = MVPA.plotting.ChannelScoresMatrix(channel_results.mean(2),\n",
    "                                            p_values=channel_pvalues,\n",
    "                                            p_value_threshold=0.05\n",
    "                                            )\n",
    "\n",
    "fig.show()"
   ]
  },
  {
   "cell_type": "code",
   "execution_count": null,
   "metadata": {},
   "outputs": [],
   "source": [
    "with open(CONFIG['PATHS']['RESULTS']['CHANNEL_SCORES'], 'rb') as tmp:\n",
    "    channel_results = np.load(tmp)\n",
    "\n",
    "# p-values are only available with multiple subjects\n",
    "with open(CONFIG['PATHS']['RESULTS']['CHANNEL_PVALUES'], 'rb') as tmp:\n",
    "    channel_pvalues = np.load(tmp)\n",
    "\n",
    "# results are stored in shape (n_subjects, n_channels, n_folds, n_times)\n",
    "# while the function expects shape (n_subjects, n_channels, n_times)\n",
    "# so we need to take the mean over folds\n",
    "fig, ax = MVPA.plotting.ChannelScoresTopomap(channel_results.mean(2),\n",
    "                                            #  tvals=(CONFIG['MNE']['T_MIN'], CONFIG['MNE']['T_MAX']),\n",
    "                                             tvals = (0.6, 1.),\n",
    "                                             )\n",
    "\n",
    "fig.show()"
   ]
  },
  {
   "cell_type": "markdown",
   "metadata": {},
   "source": [
    "## Plotting options\n",
    "\n",
    "Most plotting functions contain a ```plot_kwargs``` argument. These arguments pass plotting arguments to the underlying image generators. For more info on which arguments and values can be given, please look up the corresponding online documentation for the underlying generators.\n",
    "\n",
    "Some usage examples:"
   ]
  },
  {
   "cell_type": "code",
   "execution_count": null,
   "metadata": {},
   "outputs": [],
   "source": [
    "with open(CONFIG['PATHS']['RESULTS']['GAT_RESULTS'], 'rb') as tmp:\n",
    "    GAT_results = np.load(tmp)\n",
    "\n",
    "with open(CONFIG['PATHS']['RESULTS']['GAT_PVALUES'], 'rb') as tmp:\n",
    "    GAT_pvalues = np.load(tmp)\n",
    "\n",
    "fig, ax = MVPA.plotting.GeneralizationDiagonal(GAT_results.mean(1), \n",
    "                                               p_values=GAT_pvalues,\n",
    "                                               p_value_threshold=[0.01, 0.05, 0.001],\n",
    "                                               plot_kwargs={'linestyle':'dashed', # different linestyle\n",
    "                                                            'color':'green'}      # different line color\n",
    "                                               )\n",
    "\n",
    "fig.show()"
   ]
  },
  {
   "cell_type": "code",
   "execution_count": null,
   "metadata": {},
   "outputs": [],
   "source": [
    "with open(CONFIG['PATHS']['RESULTS']['CHANNEL_SCORES'], 'rb') as tmp:\n",
    "    channel_results = np.load(tmp)\n",
    "\n",
    "fig, ax = MVPA.plotting.ChannelScoresTopomap(channel_results.mean(2),\n",
    "                                             tvals=(CONFIG['MNE']['T_MIN'], CONFIG['MNE']['T_MAX']),\n",
    "                                             plot_kwargs={'names':None}   # don't plot channel labels\n",
    "                                             )\n",
    "\n",
    "fig.show()"
   ]
  },
  {
   "cell_type": "code",
   "execution_count": null,
   "metadata": {},
   "outputs": [],
   "source": [
    "with open(CONFIG['PATHS']['RESULTS']['CHANNEL_SCORES'], 'rb') as tmp:\n",
    "    channel_results = np.load(tmp)\n",
    "\n",
    "fig, ax = MVPA.plotting.ChannelScoresTopomap(channel_results.mean(2),\n",
    "                                             tvals=(CONFIG['MNE']['T_MIN'], CONFIG['MNE']['T_MAX']),\n",
    "                                             plot_kwargs={'image_interp':'linear'}   # different interpolation method\n",
    "                                             )\n",
    "\n",
    "fig.show()"
   ]
  },
  {
   "cell_type": "code",
   "execution_count": null,
   "metadata": {},
   "outputs": [],
   "source": [
    "with open(CONFIG['PATHS']['RESULTS']['CHANNEL_SCORES'], 'rb') as tmp:\n",
    "    channel_results = np.load(tmp)\n",
    "\n",
    "fig, ax = MVPA.plotting.ChannelScoresTopomap(channel_results.mean(2),\n",
    "                                             tvals=(CONFIG['MNE']['T_MIN'], CONFIG['MNE']['T_MAX']),\n",
    "                                             plot_kwargs={'image_interp':'nearest'}   # different interpolation method\n",
    "                                             )\n",
    "\n",
    "fig.show()"
   ]
  },
  {
   "cell_type": "code",
   "execution_count": null,
   "metadata": {},
   "outputs": [],
   "source": [
    "with open(CONFIG['PATHS']['RESULTS']['GAT_RESULTS'], 'rb') as tmp:\n",
    "    GAT_results = np.load(tmp)\n",
    "\n",
    "with open(CONFIG['PATHS']['RESULTS']['GAT_PVALUES'], 'rb') as tmp:\n",
    "    GAT_pvalues = np.load(tmp)\n",
    "\n",
    "fig, ax = MVPA.plotting.GeneralizationScoreMatrix(GAT_results.mean(1), \n",
    "                                                  p_values=GAT_pvalues,\n",
    "                                                  p_value_threshold=0.05,\n",
    "                                                  imshow_kwargs={'cmap':'RdGy',             # different colormap\n",
    "                                                                 'interpolation':'nearest'} # different interpolation method\n",
    "                                                  )\n",
    "\n",
    "fig.show()"
   ]
  }
 ],
 "metadata": {
  "kernelspec": {
   "display_name": "venv",
   "language": "python",
   "name": "python3"
  },
  "language_info": {
   "codemirror_mode": {
    "name": "ipython",
    "version": 3
   },
   "file_extension": ".py",
   "mimetype": "text/x-python",
   "name": "python",
   "nbconvert_exporter": "python",
   "pygments_lexer": "ipython3",
   "version": "3.11.7"
  }
 },
 "nbformat": 4,
 "nbformat_minor": 2
}
